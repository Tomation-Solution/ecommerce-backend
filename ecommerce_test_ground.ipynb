{
 "cells": [
  {
   "cell_type": "code",
   "execution_count": 1,
   "metadata": {},
   "outputs": [],
   "source": [
    "from models import *"
   ]
  },
  {
   "cell_type": "code",
   "execution_count": 2,
   "metadata": {},
   "outputs": [],
   "source": [
    "from config import db\n",
    "from random import randint, choice"
   ]
  },
  {
   "cell_type": "code",
   "execution_count": 15,
   "metadata": {},
   "outputs": [
    {
     "name": "stdout",
     "output_type": "stream",
     "text": [
      "2020-07-07 01:17:42,225 INFO sqlalchemy.engine.base.Engine BEGIN (implicit)\n",
      "2020-07-07 01:17:42,228 INFO sqlalchemy.engine.base.Engine SELECT customers.customer_id AS customers_customer_id, customers.firstname AS customers_firstname, customers.lastname AS customers_lastname, customers.date_created AS customers_date_created, customers.email AS customers_email, customers.phone_number AS customers_phone_number, customers.password AS customers_password \n",
      "FROM customers\n",
      "2020-07-07 01:17:42,230 INFO sqlalchemy.engine.base.Engine {}\n",
      "2020-07-07 01:17:42,236 INFO sqlalchemy.engine.base.Engine SELECT products.product_id AS products_product_id, products.product_name AS products_product_name, products.product_image AS products_product_image, products.category_id AS products_category_id, products.stock_quantity AS products_stock_quantity, products.price AS products_price, products.date_created AS products_date_created \n",
      "FROM products\n",
      "2020-07-07 01:17:42,238 INFO sqlalchemy.engine.base.Engine {}\n",
      "2020-07-07 01:17:42,244 INFO sqlalchemy.engine.base.Engine SELECT products.product_id AS products_product_id, products.product_name AS products_product_name, products.product_image AS products_product_image, products.category_id AS products_category_id, products.stock_quantity AS products_stock_quantity, products.price AS products_price, products.date_created AS products_date_created \n",
      "FROM products\n",
      "2020-07-07 01:17:42,246 INFO sqlalchemy.engine.base.Engine {}\n",
      "2020-07-07 01:17:42,251 INFO sqlalchemy.engine.base.Engine SELECT products.product_id AS products_product_id, products.product_name AS products_product_name, products.product_image AS products_product_image, products.category_id AS products_category_id, products.stock_quantity AS products_stock_quantity, products.price AS products_price, products.date_created AS products_date_created \n",
      "FROM products\n",
      "2020-07-07 01:17:42,252 INFO sqlalchemy.engine.base.Engine {}\n",
      "2020-07-07 01:17:42,258 INFO sqlalchemy.engine.base.Engine SELECT customers.customer_id AS customers_customer_id, customers.firstname AS customers_firstname, customers.lastname AS customers_lastname, customers.date_created AS customers_date_created, customers.email AS customers_email, customers.phone_number AS customers_phone_number, customers.password AS customers_password \n",
      "FROM customers\n",
      "2020-07-07 01:17:42,259 INFO sqlalchemy.engine.base.Engine {}\n",
      "2020-07-07 01:17:42,263 INFO sqlalchemy.engine.base.Engine SELECT products.product_id AS products_product_id, products.product_name AS products_product_name, products.product_image AS products_product_image, products.category_id AS products_category_id, products.stock_quantity AS products_stock_quantity, products.price AS products_price, products.date_created AS products_date_created \n",
      "FROM products\n",
      "2020-07-07 01:17:42,265 INFO sqlalchemy.engine.base.Engine {}\n",
      "2020-07-07 01:17:42,272 INFO sqlalchemy.engine.base.Engine SELECT products.product_id AS products_product_id, products.product_name AS products_product_name, products.product_image AS products_product_image, products.category_id AS products_category_id, products.stock_quantity AS products_stock_quantity, products.price AS products_price, products.date_created AS products_date_created \n",
      "FROM products\n",
      "2020-07-07 01:17:42,273 INFO sqlalchemy.engine.base.Engine {}\n",
      "2020-07-07 01:17:42,280 INFO sqlalchemy.engine.base.Engine SELECT products.product_id AS products_product_id, products.product_name AS products_product_name, products.product_image AS products_product_image, products.category_id AS products_category_id, products.stock_quantity AS products_stock_quantity, products.price AS products_price, products.date_created AS products_date_created \n",
      "FROM products\n",
      "2020-07-07 01:17:42,281 INFO sqlalchemy.engine.base.Engine {}\n",
      "2020-07-07 01:17:42,288 INFO sqlalchemy.engine.base.Engine SELECT customers.customer_id AS customers_customer_id, customers.firstname AS customers_firstname, customers.lastname AS customers_lastname, customers.date_created AS customers_date_created, customers.email AS customers_email, customers.phone_number AS customers_phone_number, customers.password AS customers_password \n",
      "FROM customers\n",
      "2020-07-07 01:17:42,289 INFO sqlalchemy.engine.base.Engine {}\n",
      "2020-07-07 01:17:42,294 INFO sqlalchemy.engine.base.Engine SELECT products.product_id AS products_product_id, products.product_name AS products_product_name, products.product_image AS products_product_image, products.category_id AS products_category_id, products.stock_quantity AS products_stock_quantity, products.price AS products_price, products.date_created AS products_date_created \n",
      "FROM products\n",
      "2020-07-07 01:17:42,295 INFO sqlalchemy.engine.base.Engine {}\n",
      "2020-07-07 01:17:42,301 INFO sqlalchemy.engine.base.Engine SELECT products.product_id AS products_product_id, products.product_name AS products_product_name, products.product_image AS products_product_image, products.category_id AS products_category_id, products.stock_quantity AS products_stock_quantity, products.price AS products_price, products.date_created AS products_date_created \n",
      "FROM products\n",
      "2020-07-07 01:17:42,302 INFO sqlalchemy.engine.base.Engine {}\n",
      "2020-07-07 01:17:42,309 INFO sqlalchemy.engine.base.Engine SELECT customers.customer_id AS customers_customer_id, customers.firstname AS customers_firstname, customers.lastname AS customers_lastname, customers.date_created AS customers_date_created, customers.email AS customers_email, customers.phone_number AS customers_phone_number, customers.password AS customers_password \n",
      "FROM customers\n",
      "2020-07-07 01:17:42,313 INFO sqlalchemy.engine.base.Engine {}\n",
      "2020-07-07 01:17:42,322 INFO sqlalchemy.engine.base.Engine SELECT products.product_id AS products_product_id, products.product_name AS products_product_name, products.product_image AS products_product_image, products.category_id AS products_category_id, products.stock_quantity AS products_stock_quantity, products.price AS products_price, products.date_created AS products_date_created \n",
      "FROM products\n",
      "2020-07-07 01:17:42,324 INFO sqlalchemy.engine.base.Engine {}\n",
      "2020-07-07 01:17:42,330 INFO sqlalchemy.engine.base.Engine SELECT customers.customer_id AS customers_customer_id, customers.firstname AS customers_firstname, customers.lastname AS customers_lastname, customers.date_created AS customers_date_created, customers.email AS customers_email, customers.phone_number AS customers_phone_number, customers.password AS customers_password \n",
      "FROM customers\n",
      "2020-07-07 01:17:42,332 INFO sqlalchemy.engine.base.Engine {}\n",
      "2020-07-07 01:17:42,337 INFO sqlalchemy.engine.base.Engine SELECT products.product_id AS products_product_id, products.product_name AS products_product_name, products.product_image AS products_product_image, products.category_id AS products_category_id, products.stock_quantity AS products_stock_quantity, products.price AS products_price, products.date_created AS products_date_created \n",
      "FROM products\n",
      "2020-07-07 01:17:42,339 INFO sqlalchemy.engine.base.Engine {}\n",
      "2020-07-07 01:17:42,344 INFO sqlalchemy.engine.base.Engine SELECT products.product_id AS products_product_id, products.product_name AS products_product_name, products.product_image AS products_product_image, products.category_id AS products_category_id, products.stock_quantity AS products_stock_quantity, products.price AS products_price, products.date_created AS products_date_created \n",
      "FROM products\n",
      "2020-07-07 01:17:42,346 INFO sqlalchemy.engine.base.Engine {}\n",
      "2020-07-07 01:17:42,352 INFO sqlalchemy.engine.base.Engine SELECT products.product_id AS products_product_id, products.product_name AS products_product_name, products.product_image AS products_product_image, products.category_id AS products_category_id, products.stock_quantity AS products_stock_quantity, products.price AS products_price, products.date_created AS products_date_created \n",
      "FROM products\n",
      "2020-07-07 01:17:42,354 INFO sqlalchemy.engine.base.Engine {}\n",
      "2020-07-07 01:17:42,359 INFO sqlalchemy.engine.base.Engine SELECT customers.customer_id AS customers_customer_id, customers.firstname AS customers_firstname, customers.lastname AS customers_lastname, customers.date_created AS customers_date_created, customers.email AS customers_email, customers.phone_number AS customers_phone_number, customers.password AS customers_password \n",
      "FROM customers\n"
     ]
    },
    {
     "name": "stdout",
     "output_type": "stream",
     "text": [
      "2020-07-07 01:17:42,360 INFO sqlalchemy.engine.base.Engine {}\n",
      "2020-07-07 01:17:42,364 INFO sqlalchemy.engine.base.Engine SELECT products.product_id AS products_product_id, products.product_name AS products_product_name, products.product_image AS products_product_image, products.category_id AS products_category_id, products.stock_quantity AS products_stock_quantity, products.price AS products_price, products.date_created AS products_date_created \n",
      "FROM products\n",
      "2020-07-07 01:17:42,366 INFO sqlalchemy.engine.base.Engine {}\n",
      "2020-07-07 01:17:42,378 INFO sqlalchemy.engine.base.Engine SELECT customers.customer_id AS customers_customer_id, customers.firstname AS customers_firstname, customers.lastname AS customers_lastname, customers.date_created AS customers_date_created, customers.email AS customers_email, customers.phone_number AS customers_phone_number, customers.password AS customers_password \n",
      "FROM customers\n",
      "2020-07-07 01:17:42,380 INFO sqlalchemy.engine.base.Engine {}\n",
      "2020-07-07 01:17:42,385 INFO sqlalchemy.engine.base.Engine SELECT products.product_id AS products_product_id, products.product_name AS products_product_name, products.product_image AS products_product_image, products.category_id AS products_category_id, products.stock_quantity AS products_stock_quantity, products.price AS products_price, products.date_created AS products_date_created \n",
      "FROM products\n",
      "2020-07-07 01:17:42,387 INFO sqlalchemy.engine.base.Engine {}\n",
      "2020-07-07 01:17:42,392 INFO sqlalchemy.engine.base.Engine SELECT customers.customer_id AS customers_customer_id, customers.firstname AS customers_firstname, customers.lastname AS customers_lastname, customers.date_created AS customers_date_created, customers.email AS customers_email, customers.phone_number AS customers_phone_number, customers.password AS customers_password \n",
      "FROM customers\n",
      "2020-07-07 01:17:42,394 INFO sqlalchemy.engine.base.Engine {}\n",
      "2020-07-07 01:17:42,397 INFO sqlalchemy.engine.base.Engine SELECT products.product_id AS products_product_id, products.product_name AS products_product_name, products.product_image AS products_product_image, products.category_id AS products_category_id, products.stock_quantity AS products_stock_quantity, products.price AS products_price, products.date_created AS products_date_created \n",
      "FROM products\n",
      "2020-07-07 01:17:42,399 INFO sqlalchemy.engine.base.Engine {}\n",
      "2020-07-07 01:17:42,404 INFO sqlalchemy.engine.base.Engine SELECT products.product_id AS products_product_id, products.product_name AS products_product_name, products.product_image AS products_product_image, products.category_id AS products_category_id, products.stock_quantity AS products_stock_quantity, products.price AS products_price, products.date_created AS products_date_created \n",
      "FROM products\n",
      "2020-07-07 01:17:42,406 INFO sqlalchemy.engine.base.Engine {}\n",
      "2020-07-07 01:17:42,414 INFO sqlalchemy.engine.base.Engine SELECT customers.customer_id AS customers_customer_id, customers.firstname AS customers_firstname, customers.lastname AS customers_lastname, customers.date_created AS customers_date_created, customers.email AS customers_email, customers.phone_number AS customers_phone_number, customers.password AS customers_password \n",
      "FROM customers\n",
      "2020-07-07 01:17:42,416 INFO sqlalchemy.engine.base.Engine {}\n",
      "2020-07-07 01:17:42,421 INFO sqlalchemy.engine.base.Engine SELECT products.product_id AS products_product_id, products.product_name AS products_product_name, products.product_image AS products_product_image, products.category_id AS products_category_id, products.stock_quantity AS products_stock_quantity, products.price AS products_price, products.date_created AS products_date_created \n",
      "FROM products\n",
      "2020-07-07 01:17:42,423 INFO sqlalchemy.engine.base.Engine {}\n",
      "2020-07-07 01:17:42,430 INFO sqlalchemy.engine.base.Engine SELECT customers.customer_id AS customers_customer_id, customers.firstname AS customers_firstname, customers.lastname AS customers_lastname, customers.date_created AS customers_date_created, customers.email AS customers_email, customers.phone_number AS customers_phone_number, customers.password AS customers_password \n",
      "FROM customers\n",
      "2020-07-07 01:17:42,432 INFO sqlalchemy.engine.base.Engine {}\n",
      "2020-07-07 01:17:42,438 INFO sqlalchemy.engine.base.Engine SELECT products.product_id AS products_product_id, products.product_name AS products_product_name, products.product_image AS products_product_image, products.category_id AS products_category_id, products.stock_quantity AS products_stock_quantity, products.price AS products_price, products.date_created AS products_date_created \n",
      "FROM products\n",
      "2020-07-07 01:17:42,440 INFO sqlalchemy.engine.base.Engine {}\n",
      "2020-07-07 01:17:42,446 INFO sqlalchemy.engine.base.Engine SELECT products.product_id AS products_product_id, products.product_name AS products_product_name, products.product_image AS products_product_image, products.category_id AS products_category_id, products.stock_quantity AS products_stock_quantity, products.price AS products_price, products.date_created AS products_date_created \n",
      "FROM products\n",
      "2020-07-07 01:17:42,447 INFO sqlalchemy.engine.base.Engine {}\n",
      "2020-07-07 01:17:42,452 INFO sqlalchemy.engine.base.Engine SELECT customers.customer_id AS customers_customer_id, customers.firstname AS customers_firstname, customers.lastname AS customers_lastname, customers.date_created AS customers_date_created, customers.email AS customers_email, customers.phone_number AS customers_phone_number, customers.password AS customers_password \n",
      "FROM customers\n",
      "2020-07-07 01:17:42,454 INFO sqlalchemy.engine.base.Engine {}\n",
      "2020-07-07 01:17:42,458 INFO sqlalchemy.engine.base.Engine SELECT products.product_id AS products_product_id, products.product_name AS products_product_name, products.product_image AS products_product_image, products.category_id AS products_category_id, products.stock_quantity AS products_stock_quantity, products.price AS products_price, products.date_created AS products_date_created \n",
      "FROM products\n",
      "2020-07-07 01:17:42,459 INFO sqlalchemy.engine.base.Engine {}\n",
      "2020-07-07 01:17:42,466 INFO sqlalchemy.engine.base.Engine SELECT products.product_id AS products_product_id, products.product_name AS products_product_name, products.product_image AS products_product_image, products.category_id AS products_category_id, products.stock_quantity AS products_stock_quantity, products.price AS products_price, products.date_created AS products_date_created \n",
      "FROM products\n",
      "2020-07-07 01:17:42,469 INFO sqlalchemy.engine.base.Engine {}\n",
      "2020-07-07 01:17:42,481 INFO sqlalchemy.engine.base.Engine SELECT products.product_id AS products_product_id, products.product_name AS products_product_name, products.product_image AS products_product_image, products.category_id AS products_category_id, products.stock_quantity AS products_stock_quantity, products.price AS products_price, products.date_created AS products_date_created \n",
      "FROM products\n",
      "2020-07-07 01:17:42,483 INFO sqlalchemy.engine.base.Engine {}\n",
      "2020-07-07 01:17:42,489 INFO sqlalchemy.engine.base.Engine SELECT products.product_id AS products_product_id, products.product_name AS products_product_name, products.product_image AS products_product_image, products.category_id AS products_category_id, products.stock_quantity AS products_stock_quantity, products.price AS products_price, products.date_created AS products_date_created \n",
      "FROM products\n",
      "2020-07-07 01:17:42,490 INFO sqlalchemy.engine.base.Engine {}\n",
      "2020-07-07 01:17:42,497 INFO sqlalchemy.engine.base.Engine SELECT customers.customer_id AS customers_customer_id, customers.firstname AS customers_firstname, customers.lastname AS customers_lastname, customers.date_created AS customers_date_created, customers.email AS customers_email, customers.phone_number AS customers_phone_number, customers.password AS customers_password \n",
      "FROM customers\n",
      "2020-07-07 01:17:42,499 INFO sqlalchemy.engine.base.Engine {}\n",
      "2020-07-07 01:17:42,503 INFO sqlalchemy.engine.base.Engine SELECT products.product_id AS products_product_id, products.product_name AS products_product_name, products.product_image AS products_product_image, products.category_id AS products_category_id, products.stock_quantity AS products_stock_quantity, products.price AS products_price, products.date_created AS products_date_created \n",
      "FROM products\n"
     ]
    },
    {
     "name": "stdout",
     "output_type": "stream",
     "text": [
      "2020-07-07 01:17:42,505 INFO sqlalchemy.engine.base.Engine {}\n",
      "2020-07-07 01:17:42,511 INFO sqlalchemy.engine.base.Engine SELECT products.product_id AS products_product_id, products.product_name AS products_product_name, products.product_image AS products_product_image, products.category_id AS products_category_id, products.stock_quantity AS products_stock_quantity, products.price AS products_price, products.date_created AS products_date_created \n",
      "FROM products\n",
      "2020-07-07 01:17:42,512 INFO sqlalchemy.engine.base.Engine {}\n",
      "2020-07-07 01:17:42,518 INFO sqlalchemy.engine.base.Engine SELECT products.product_id AS products_product_id, products.product_name AS products_product_name, products.product_image AS products_product_image, products.category_id AS products_category_id, products.stock_quantity AS products_stock_quantity, products.price AS products_price, products.date_created AS products_date_created \n",
      "FROM products\n",
      "2020-07-07 01:17:42,520 INFO sqlalchemy.engine.base.Engine {}\n",
      "2020-07-07 01:17:42,526 INFO sqlalchemy.engine.base.Engine SELECT products.product_id AS products_product_id, products.product_name AS products_product_name, products.product_image AS products_product_image, products.category_id AS products_category_id, products.stock_quantity AS products_stock_quantity, products.price AS products_price, products.date_created AS products_date_created \n",
      "FROM products\n",
      "2020-07-07 01:17:42,528 INFO sqlalchemy.engine.base.Engine {}\n",
      "2020-07-07 01:17:42,535 INFO sqlalchemy.engine.base.Engine SELECT products.product_id AS products_product_id, products.product_name AS products_product_name, products.product_image AS products_product_image, products.category_id AS products_category_id, products.stock_quantity AS products_stock_quantity, products.price AS products_price, products.date_created AS products_date_created \n",
      "FROM products\n",
      "2020-07-07 01:17:42,536 INFO sqlalchemy.engine.base.Engine {}\n",
      "2020-07-07 01:17:42,542 INFO sqlalchemy.engine.base.Engine SELECT customers.customer_id AS customers_customer_id, customers.firstname AS customers_firstname, customers.lastname AS customers_lastname, customers.date_created AS customers_date_created, customers.email AS customers_email, customers.phone_number AS customers_phone_number, customers.password AS customers_password \n",
      "FROM customers\n",
      "2020-07-07 01:17:42,544 INFO sqlalchemy.engine.base.Engine {}\n",
      "2020-07-07 01:17:42,549 INFO sqlalchemy.engine.base.Engine SELECT products.product_id AS products_product_id, products.product_name AS products_product_name, products.product_image AS products_product_image, products.category_id AS products_category_id, products.stock_quantity AS products_stock_quantity, products.price AS products_price, products.date_created AS products_date_created \n",
      "FROM products\n",
      "2020-07-07 01:17:42,551 INFO sqlalchemy.engine.base.Engine {}\n",
      "2020-07-07 01:17:42,557 INFO sqlalchemy.engine.base.Engine SELECT products.product_id AS products_product_id, products.product_name AS products_product_name, products.product_image AS products_product_image, products.category_id AS products_category_id, products.stock_quantity AS products_stock_quantity, products.price AS products_price, products.date_created AS products_date_created \n",
      "FROM products\n",
      "2020-07-07 01:17:42,559 INFO sqlalchemy.engine.base.Engine {}\n",
      "2020-07-07 01:17:42,565 INFO sqlalchemy.engine.base.Engine SELECT products.product_id AS products_product_id, products.product_name AS products_product_name, products.product_image AS products_product_image, products.category_id AS products_category_id, products.stock_quantity AS products_stock_quantity, products.price AS products_price, products.date_created AS products_date_created \n",
      "FROM products\n",
      "2020-07-07 01:17:42,567 INFO sqlalchemy.engine.base.Engine {}\n",
      "2020-07-07 01:17:42,573 INFO sqlalchemy.engine.base.Engine SELECT customers.customer_id AS customers_customer_id, customers.firstname AS customers_firstname, customers.lastname AS customers_lastname, customers.date_created AS customers_date_created, customers.email AS customers_email, customers.phone_number AS customers_phone_number, customers.password AS customers_password \n",
      "FROM customers\n",
      "2020-07-07 01:17:42,575 INFO sqlalchemy.engine.base.Engine {}\n",
      "2020-07-07 01:17:42,581 INFO sqlalchemy.engine.base.Engine SELECT products.product_id AS products_product_id, products.product_name AS products_product_name, products.product_image AS products_product_image, products.category_id AS products_category_id, products.stock_quantity AS products_stock_quantity, products.price AS products_price, products.date_created AS products_date_created \n",
      "FROM products\n",
      "2020-07-07 01:17:42,583 INFO sqlalchemy.engine.base.Engine {}\n",
      "2020-07-07 01:17:42,591 INFO sqlalchemy.engine.base.Engine SELECT products.product_id AS products_product_id, products.product_name AS products_product_name, products.product_image AS products_product_image, products.category_id AS products_category_id, products.stock_quantity AS products_stock_quantity, products.price AS products_price, products.date_created AS products_date_created \n",
      "FROM products\n",
      "2020-07-07 01:17:42,593 INFO sqlalchemy.engine.base.Engine {}\n",
      "2020-07-07 01:17:42,607 INFO sqlalchemy.engine.base.Engine SELECT products.product_id AS products_product_id, products.product_name AS products_product_name, products.product_image AS products_product_image, products.category_id AS products_category_id, products.stock_quantity AS products_stock_quantity, products.price AS products_price, products.date_created AS products_date_created \n",
      "FROM products\n",
      "2020-07-07 01:17:42,609 INFO sqlalchemy.engine.base.Engine {}\n",
      "2020-07-07 01:17:42,616 INFO sqlalchemy.engine.base.Engine SELECT products.product_id AS products_product_id, products.product_name AS products_product_name, products.product_image AS products_product_image, products.category_id AS products_category_id, products.stock_quantity AS products_stock_quantity, products.price AS products_price, products.date_created AS products_date_created \n",
      "FROM products\n",
      "2020-07-07 01:17:42,618 INFO sqlalchemy.engine.base.Engine {}\n",
      "2020-07-07 01:17:42,624 INFO sqlalchemy.engine.base.Engine SELECT customers.customer_id AS customers_customer_id, customers.firstname AS customers_firstname, customers.lastname AS customers_lastname, customers.date_created AS customers_date_created, customers.email AS customers_email, customers.phone_number AS customers_phone_number, customers.password AS customers_password \n",
      "FROM customers\n",
      "2020-07-07 01:17:42,626 INFO sqlalchemy.engine.base.Engine {}\n",
      "2020-07-07 01:17:42,638 INFO sqlalchemy.engine.base.Engine SELECT products.product_id AS products_product_id, products.product_name AS products_product_name, products.product_image AS products_product_image, products.category_id AS products_category_id, products.stock_quantity AS products_stock_quantity, products.price AS products_price, products.date_created AS products_date_created \n",
      "FROM products\n",
      "2020-07-07 01:17:42,640 INFO sqlalchemy.engine.base.Engine {}\n",
      "2020-07-07 01:17:42,646 INFO sqlalchemy.engine.base.Engine SELECT customers.customer_id AS customers_customer_id, customers.firstname AS customers_firstname, customers.lastname AS customers_lastname, customers.date_created AS customers_date_created, customers.email AS customers_email, customers.phone_number AS customers_phone_number, customers.password AS customers_password \n",
      "FROM customers\n",
      "2020-07-07 01:17:42,648 INFO sqlalchemy.engine.base.Engine {}\n",
      "2020-07-07 01:17:42,653 INFO sqlalchemy.engine.base.Engine SELECT products.product_id AS products_product_id, products.product_name AS products_product_name, products.product_image AS products_product_image, products.category_id AS products_category_id, products.stock_quantity AS products_stock_quantity, products.price AS products_price, products.date_created AS products_date_created \n",
      "FROM products\n",
      "2020-07-07 01:17:42,656 INFO sqlalchemy.engine.base.Engine {}\n",
      "2020-07-07 01:17:42,662 INFO sqlalchemy.engine.base.Engine SELECT products.product_id AS products_product_id, products.product_name AS products_product_name, products.product_image AS products_product_image, products.category_id AS products_category_id, products.stock_quantity AS products_stock_quantity, products.price AS products_price, products.date_created AS products_date_created \n",
      "FROM products\n"
     ]
    },
    {
     "name": "stdout",
     "output_type": "stream",
     "text": [
      "2020-07-07 01:17:42,664 INFO sqlalchemy.engine.base.Engine {}\n",
      "2020-07-07 01:17:42,674 INFO sqlalchemy.engine.base.Engine SELECT products.product_id AS products_product_id, products.product_name AS products_product_name, products.product_image AS products_product_image, products.category_id AS products_category_id, products.stock_quantity AS products_stock_quantity, products.price AS products_price, products.date_created AS products_date_created \n",
      "FROM products\n",
      "2020-07-07 01:17:42,675 INFO sqlalchemy.engine.base.Engine {}\n",
      "2020-07-07 01:17:42,685 INFO sqlalchemy.engine.base.Engine SELECT products.product_id AS products_product_id, products.product_name AS products_product_name, products.product_image AS products_product_image, products.category_id AS products_category_id, products.stock_quantity AS products_stock_quantity, products.price AS products_price, products.date_created AS products_date_created \n",
      "FROM products\n",
      "2020-07-07 01:17:42,687 INFO sqlalchemy.engine.base.Engine {}\n",
      "2020-07-07 01:17:42,693 INFO sqlalchemy.engine.base.Engine SELECT products.product_id AS products_product_id, products.product_name AS products_product_name, products.product_image AS products_product_image, products.category_id AS products_category_id, products.stock_quantity AS products_stock_quantity, products.price AS products_price, products.date_created AS products_date_created \n",
      "FROM products\n",
      "2020-07-07 01:17:42,695 INFO sqlalchemy.engine.base.Engine {}\n",
      "2020-07-07 01:17:42,701 INFO sqlalchemy.engine.base.Engine SELECT customers.customer_id AS customers_customer_id, customers.firstname AS customers_firstname, customers.lastname AS customers_lastname, customers.date_created AS customers_date_created, customers.email AS customers_email, customers.phone_number AS customers_phone_number, customers.password AS customers_password \n",
      "FROM customers\n",
      "2020-07-07 01:17:42,703 INFO sqlalchemy.engine.base.Engine {}\n",
      "2020-07-07 01:17:42,714 INFO sqlalchemy.engine.base.Engine SELECT products.product_id AS products_product_id, products.product_name AS products_product_name, products.product_image AS products_product_image, products.category_id AS products_category_id, products.stock_quantity AS products_stock_quantity, products.price AS products_price, products.date_created AS products_date_created \n",
      "FROM products\n",
      "2020-07-07 01:17:42,716 INFO sqlalchemy.engine.base.Engine {}\n",
      "2020-07-07 01:17:42,722 INFO sqlalchemy.engine.base.Engine SELECT products.product_id AS products_product_id, products.product_name AS products_product_name, products.product_image AS products_product_image, products.category_id AS products_category_id, products.stock_quantity AS products_stock_quantity, products.price AS products_price, products.date_created AS products_date_created \n",
      "FROM products\n",
      "2020-07-07 01:17:42,724 INFO sqlalchemy.engine.base.Engine {}\n",
      "2020-07-07 01:17:42,730 INFO sqlalchemy.engine.base.Engine SELECT customers.customer_id AS customers_customer_id, customers.firstname AS customers_firstname, customers.lastname AS customers_lastname, customers.date_created AS customers_date_created, customers.email AS customers_email, customers.phone_number AS customers_phone_number, customers.password AS customers_password \n",
      "FROM customers\n",
      "2020-07-07 01:17:42,732 INFO sqlalchemy.engine.base.Engine {}\n",
      "2020-07-07 01:17:42,737 INFO sqlalchemy.engine.base.Engine SELECT products.product_id AS products_product_id, products.product_name AS products_product_name, products.product_image AS products_product_image, products.category_id AS products_category_id, products.stock_quantity AS products_stock_quantity, products.price AS products_price, products.date_created AS products_date_created \n",
      "FROM products\n",
      "2020-07-07 01:17:42,739 INFO sqlalchemy.engine.base.Engine {}\n",
      "2020-07-07 01:17:42,745 INFO sqlalchemy.engine.base.Engine SELECT products.product_id AS products_product_id, products.product_name AS products_product_name, products.product_image AS products_product_image, products.category_id AS products_category_id, products.stock_quantity AS products_stock_quantity, products.price AS products_price, products.date_created AS products_date_created \n",
      "FROM products\n",
      "2020-07-07 01:17:42,747 INFO sqlalchemy.engine.base.Engine {}\n",
      "2020-07-07 01:17:42,753 INFO sqlalchemy.engine.base.Engine SELECT products.product_id AS products_product_id, products.product_name AS products_product_name, products.product_image AS products_product_image, products.category_id AS products_category_id, products.stock_quantity AS products_stock_quantity, products.price AS products_price, products.date_created AS products_date_created \n",
      "FROM products\n",
      "2020-07-07 01:17:42,755 INFO sqlalchemy.engine.base.Engine {}\n",
      "2020-07-07 01:17:42,769 INFO sqlalchemy.engine.base.Engine SELECT products.product_id AS products_product_id, products.product_name AS products_product_name, products.product_image AS products_product_image, products.category_id AS products_category_id, products.stock_quantity AS products_stock_quantity, products.price AS products_price, products.date_created AS products_date_created \n",
      "FROM products\n",
      "2020-07-07 01:17:42,771 INFO sqlalchemy.engine.base.Engine {}\n",
      "2020-07-07 01:17:42,777 INFO sqlalchemy.engine.base.Engine SELECT products.product_id AS products_product_id, products.product_name AS products_product_name, products.product_image AS products_product_image, products.category_id AS products_category_id, products.stock_quantity AS products_stock_quantity, products.price AS products_price, products.date_created AS products_date_created \n",
      "FROM products\n",
      "2020-07-07 01:17:42,778 INFO sqlalchemy.engine.base.Engine {}\n",
      "2020-07-07 01:17:42,784 INFO sqlalchemy.engine.base.Engine SELECT customers.customer_id AS customers_customer_id, customers.firstname AS customers_firstname, customers.lastname AS customers_lastname, customers.date_created AS customers_date_created, customers.email AS customers_email, customers.phone_number AS customers_phone_number, customers.password AS customers_password \n",
      "FROM customers\n",
      "2020-07-07 01:17:42,785 INFO sqlalchemy.engine.base.Engine {}\n",
      "2020-07-07 01:17:42,787 INFO sqlalchemy.engine.base.Engine SELECT products.product_id AS products_product_id, products.product_name AS products_product_name, products.product_image AS products_product_image, products.category_id AS products_category_id, products.stock_quantity AS products_stock_quantity, products.price AS products_price, products.date_created AS products_date_created \n",
      "FROM products\n",
      "2020-07-07 01:17:42,787 INFO sqlalchemy.engine.base.Engine {}\n",
      "2020-07-07 01:17:42,799 INFO sqlalchemy.engine.base.Engine SELECT products.product_id AS products_product_id, products.product_name AS products_product_name, products.product_image AS products_product_image, products.category_id AS products_category_id, products.stock_quantity AS products_stock_quantity, products.price AS products_price, products.date_created AS products_date_created \n",
      "FROM products\n",
      "2020-07-07 01:17:42,801 INFO sqlalchemy.engine.base.Engine {}\n",
      "2020-07-07 01:17:42,809 INFO sqlalchemy.engine.base.Engine SELECT products.product_id AS products_product_id, products.product_name AS products_product_name, products.product_image AS products_product_image, products.category_id AS products_category_id, products.stock_quantity AS products_stock_quantity, products.price AS products_price, products.date_created AS products_date_created \n",
      "FROM products\n",
      "2020-07-07 01:17:42,811 INFO sqlalchemy.engine.base.Engine {}\n",
      "2020-07-07 01:17:42,817 INFO sqlalchemy.engine.base.Engine SELECT products.product_id AS products_product_id, products.product_name AS products_product_name, products.product_image AS products_product_image, products.category_id AS products_category_id, products.stock_quantity AS products_stock_quantity, products.price AS products_price, products.date_created AS products_date_created \n",
      "FROM products\n",
      "2020-07-07 01:17:42,820 INFO sqlalchemy.engine.base.Engine {}\n",
      "2020-07-07 01:17:42,826 INFO sqlalchemy.engine.base.Engine SELECT products.product_id AS products_product_id, products.product_name AS products_product_name, products.product_image AS products_product_image, products.category_id AS products_category_id, products.stock_quantity AS products_stock_quantity, products.price AS products_price, products.date_created AS products_date_created \n",
      "FROM products\n"
     ]
    },
    {
     "name": "stdout",
     "output_type": "stream",
     "text": [
      "2020-07-07 01:17:42,827 INFO sqlalchemy.engine.base.Engine {}\n",
      "2020-07-07 01:17:42,832 INFO sqlalchemy.engine.base.Engine SELECT customers.customer_id AS customers_customer_id, customers.firstname AS customers_firstname, customers.lastname AS customers_lastname, customers.date_created AS customers_date_created, customers.email AS customers_email, customers.phone_number AS customers_phone_number, customers.password AS customers_password \n",
      "FROM customers\n",
      "2020-07-07 01:17:42,834 INFO sqlalchemy.engine.base.Engine {}\n",
      "2020-07-07 01:17:42,839 INFO sqlalchemy.engine.base.Engine SELECT products.product_id AS products_product_id, products.product_name AS products_product_name, products.product_image AS products_product_image, products.category_id AS products_category_id, products.stock_quantity AS products_stock_quantity, products.price AS products_price, products.date_created AS products_date_created \n",
      "FROM products\n",
      "2020-07-07 01:17:42,841 INFO sqlalchemy.engine.base.Engine {}\n",
      "2020-07-07 01:17:42,848 INFO sqlalchemy.engine.base.Engine SELECT products.product_id AS products_product_id, products.product_name AS products_product_name, products.product_image AS products_product_image, products.category_id AS products_category_id, products.stock_quantity AS products_stock_quantity, products.price AS products_price, products.date_created AS products_date_created \n",
      "FROM products\n",
      "2020-07-07 01:17:42,849 INFO sqlalchemy.engine.base.Engine {}\n",
      "2020-07-07 01:17:42,855 INFO sqlalchemy.engine.base.Engine SELECT products.product_id AS products_product_id, products.product_name AS products_product_name, products.product_image AS products_product_image, products.category_id AS products_category_id, products.stock_quantity AS products_stock_quantity, products.price AS products_price, products.date_created AS products_date_created \n",
      "FROM products\n",
      "2020-07-07 01:17:42,856 INFO sqlalchemy.engine.base.Engine {}\n"
     ]
    }
   ],
   "source": [
    "for i in range(20):\n",
    "    customer = choice(Customers.query.all())\n",
    "    no_of_products = []\n",
    "    no_of_product = randint(1, 5)\n",
    "    for i in range(no_of_product):\n",
    "        no_of_products.append({'product':choice(Products.query.all()),'qty':randint(1, 5)})\n",
    "    total_quantity = 0\n",
    "    for p in no_of_products:\n",
    "        total_quantity  += p['qty']\n",
    "    total_price = 0\n",
    "    for p in no_of_products:\n",
    "        total_price += p['product'].price * p['qty']\n",
    "    a = Orders(total_quantity=total_quantity,total_price=total_price,customer_id=customer.customer_id)"
   ]
  },
  {
   "cell_type": "code",
   "execution_count": 4,
   "metadata": {},
   "outputs": [
    {
     "data": {
      "text/plain": [
       "'William'"
      ]
     },
     "execution_count": 4,
     "metadata": {},
     "output_type": "execute_result"
    }
   ],
   "source": [
    "customer.firstname"
   ]
  },
  {
   "cell_type": "code",
   "execution_count": 5,
   "metadata": {},
   "outputs": [
    {
     "data": {
      "text/plain": [
       "[{'product': <Products 34>, 'qty': 5},\n",
       " {'product': <Products 13>, 'qty': 3},\n",
       " {'product': <Products 15>, 'qty': 5}]"
      ]
     },
     "execution_count": 5,
     "metadata": {},
     "output_type": "execute_result"
    }
   ],
   "source": [
    "no_of_products"
   ]
  },
  {
   "cell_type": "code",
   "execution_count": 6,
   "metadata": {},
   "outputs": [
    {
     "data": {
      "text/plain": [
       "13"
      ]
     },
     "execution_count": 6,
     "metadata": {},
     "output_type": "execute_result"
    }
   ],
   "source": [
    "total_quantity"
   ]
  },
  {
   "cell_type": "code",
   "execution_count": 7,
   "metadata": {},
   "outputs": [
    {
     "data": {
      "text/plain": [
       "Decimal('34966')"
      ]
     },
     "execution_count": 7,
     "metadata": {},
     "output_type": "execute_result"
    }
   ],
   "source": [
    "total_price"
   ]
  },
  {
   "cell_type": "code",
   "execution_count": 8,
   "metadata": {},
   "outputs": [
    {
     "data": {
      "text/plain": [
       "<Orders (transient 1979176127048)>"
      ]
     },
     "execution_count": 8,
     "metadata": {},
     "output_type": "execute_result"
    }
   ],
   "source": [
    "a"
   ]
  },
  {
   "cell_type": "code",
   "execution_count": 18,
   "metadata": {},
   "outputs": [
    {
     "data": {
      "text/plain": [
       "28"
      ]
     },
     "execution_count": 18,
     "metadata": {},
     "output_type": "execute_result"
    }
   ],
   "source": [
    "a.order_id"
   ]
  },
  {
   "cell_type": "code",
   "execution_count": 17,
   "metadata": {},
   "outputs": [
    {
     "name": "stdout",
     "output_type": "stream",
     "text": [
      "2020-07-07 01:17:55,939 INFO sqlalchemy.engine.base.Engine INSERT INTO orders (date_ordered, total_quantity, total_price, customer_id, status) VALUES (%(date_ordered)s, %(total_quantity)s, %(total_price)s, %(customer_id)s, %(status)s)\n",
      "2020-07-07 01:17:55,940 INFO sqlalchemy.engine.base.Engine {'date_ordered': datetime.datetime(2020, 7, 7, 0, 17, 55, 939788), 'total_quantity': 9, 'total_price': Decimal('28560'), 'customer_id': 3, 'status': 'progress'}\n"
     ]
    }
   ],
   "source": [
    "db.session.flush()"
   ]
  },
  {
   "cell_type": "code",
   "execution_count": 16,
   "metadata": {},
   "outputs": [],
   "source": [
    "db.session.add(a)"
   ]
  },
  {
   "cell_type": "code",
   "execution_count": 19,
   "metadata": {},
   "outputs": [],
   "source": [
    "for i in no_of_products:\n",
    "    a = OrderDetails(order_id=a.order_id, product_id=i['product'].product_id,quantity=i['qty'],cost=i['product'].price)\n",
    "    db.session.add(a)"
   ]
  },
  {
   "cell_type": "code",
   "execution_count": 20,
   "metadata": {},
   "outputs": [
    {
     "name": "stdout",
     "output_type": "stream",
     "text": [
      "2020-07-07 01:18:02,846 INFO sqlalchemy.engine.base.Engine INSERT INTO order_details (order_id, product_id, quantity, cost) VALUES (%(order_id)s, %(product_id)s, %(quantity)s, %(cost)s)\n",
      "2020-07-07 01:18:02,848 INFO sqlalchemy.engine.base.Engine {'order_id': 28, 'product_id': 13, 'quantity': 2, 'cost': Decimal('1782')}\n",
      "2020-07-07 01:18:02,853 INFO sqlalchemy.engine.base.Engine INSERT INTO order_details (order_id, product_id, quantity, cost) VALUES (%(order_id)s, %(product_id)s, %(quantity)s, %(cost)s)\n",
      "2020-07-07 01:18:02,854 INFO sqlalchemy.engine.base.Engine {'order_id': 28, 'product_id': 30, 'quantity': 2, 'cost': Decimal('2913')}\n",
      "2020-07-07 01:18:03,054 INFO sqlalchemy.engine.base.Engine INSERT INTO order_details (order_id, product_id, quantity, cost) VALUES (%(order_id)s, %(product_id)s, %(quantity)s, %(cost)s)\n",
      "2020-07-07 01:18:03,057 INFO sqlalchemy.engine.base.Engine {'order_id': 28, 'product_id': 26, 'quantity': 5, 'cost': Decimal('3834')}\n"
     ]
    }
   ],
   "source": [
    "db.session.flush()"
   ]
  },
  {
   "cell_type": "code",
   "execution_count": 21,
   "metadata": {},
   "outputs": [
    {
     "name": "stdout",
     "output_type": "stream",
     "text": [
      "2020-07-07 01:18:04,336 INFO sqlalchemy.engine.base.Engine COMMIT\n"
     ]
    }
   ],
   "source": [
    "db.session.commit()"
   ]
  },
  {
   "cell_type": "code",
   "execution_count": 83,
   "metadata": {},
   "outputs": [],
   "source": [
    "x = OrderDetails(order_id=a.order_id, product_id=p1['product'].product_id,quantity=p1['qty'],cost=p1['product'].price)"
   ]
  },
  {
   "cell_type": "code",
   "execution_count": 84,
   "metadata": {},
   "outputs": [],
   "source": [
    "db.session.add(x)"
   ]
  },
  {
   "cell_type": "code",
   "execution_count": 86,
   "metadata": {},
   "outputs": [
    {
     "name": "stdout",
     "output_type": "stream",
     "text": [
      "2020-07-06 22:41:04,582 INFO sqlalchemy.engine.base.Engine INSERT INTO order_details (order_id, product_id, quantity, cost) VALUES (%(order_id)s, %(product_id)s, %(quantity)s, %(cost)s)\n",
      "2020-07-06 22:41:04,584 INFO sqlalchemy.engine.base.Engine {'order_id': 24, 'product_id': 35, 'quantity': 1, 'cost': Decimal('3948')}\n"
     ]
    }
   ],
   "source": [
    "db.session.flush()\n"
   ]
  },
  {
   "cell_type": "code",
   "execution_count": 87,
   "metadata": {},
   "outputs": [
    {
     "data": {
      "text/plain": [
       "24"
      ]
     },
     "execution_count": 87,
     "metadata": {},
     "output_type": "execute_result"
    }
   ],
   "source": [
    "x.order_id"
   ]
  },
  {
   "cell_type": "code",
   "execution_count": 88,
   "metadata": {},
   "outputs": [
    {
     "name": "stdout",
     "output_type": "stream",
     "text": [
      "2020-07-06 22:41:27,534 INFO sqlalchemy.engine.base.Engine COMMIT\n"
     ]
    }
   ],
   "source": [
    "db.session.commit()"
   ]
  },
  {
   "cell_type": "code",
   "execution_count": 5,
   "metadata": {},
   "outputs": [],
   "source": [
    "db.session.rollback()"
   ]
  },
  {
   "cell_type": "code",
   "execution_count": null,
   "metadata": {},
   "outputs": [],
   "source": []
  }
 ],
 "metadata": {
  "kernelspec": {
   "display_name": "Python 3.7.5 64-bit",
   "language": "python",
   "name": "python37564bit40378f19cdc34cce9a740c7ea3cef28d"
  },
  "language_info": {
   "codemirror_mode": {
    "name": "ipython",
    "version": 3
   },
   "file_extension": ".py",
   "mimetype": "text/x-python",
   "name": "python",
   "nbconvert_exporter": "python",
   "pygments_lexer": "ipython3",
   "version": "3.7.5"
  }
 },
 "nbformat": 4,
 "nbformat_minor": 4
}
